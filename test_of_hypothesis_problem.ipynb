{
  "nbformat": 4,
  "nbformat_minor": 0,
  "metadata": {
    "colab": {
      "name": "Week4 IP.ipynb",
      "provenance": [],
      "collapsed_sections": []
    },
    "kernelspec": {
      "name": "python3",
      "display_name": "Python 3"
    }
  },
  "cells": [
    {
      "cell_type": "markdown",
      "metadata": {
        "id": "RIdUuOg0d_iD",
        "colab_type": "text"
      },
      "source": [
        "# HYPOTHESIS TESTING EXERCISE\n",
        "\n",
        "The aim of this notebook exercise is to demonstrate how **hypothesis testing** is a powerful tool that can be used to acertain claims that are made on a population by focusing on a representative sample"
      ]
    },
    {
      "cell_type": "markdown",
      "metadata": {
        "id": "D4YeGUNjeHE5",
        "colab_type": "text"
      },
      "source": [
        "# Problem Statement\n",
        "\n",
        "Autolib was an electric cab company operating France. At the height of its operation the management had a feeling that Bluecar, one of its cabs services had more cars taken from Postal Area 75015 than from Postal Area 75017 during the WeekDay. Our focus shall be to prove whether this claim is True through:\n",
        "\n",
        "  1. Exploratory analysis for the whole data\n",
        "  2. Taking a sample data and performing a hypothesis test\n",
        "\n",
        "**Null Hypothesis**: Same number of cars are taken from Postal Area 75015 and Postal Area 75017 during the weekday\n",
        "    \n",
        "    H0: µ1 = µ2\n",
        "\n",
        "**Alternate Hypothesis**: More cars are taken from postal area 75015 than from postal area 75017 during the weekday\n",
        "\n",
        "    H1: µ1 > µ2\n"
      ]
    },
    {
      "cell_type": "markdown",
      "metadata": {
        "id": "eX2EJCR6jDYf",
        "colab_type": "text"
      },
      "source": [
        "## Loading the Data"
      ]
    },
    {
      "cell_type": "code",
      "metadata": {
        "id": "n1cHo4N0Bfde",
        "colab_type": "code",
        "colab": {
          "base_uri": "https://localhost:8080/",
          "height": 54
        },
        "outputId": "2f856c23-7d12-41db-bd94-47737ba1648d"
      },
      "source": [
        "# Loading the necessary libraries\n",
        "import pandas as pd\n",
        "import numpy as np\n",
        "import matplotlib.pyplot as plt\n",
        "import seaborn as sns\n",
        "from scipy import stats"
      ],
      "execution_count": 1,
      "outputs": [
        {
          "output_type": "stream",
          "text": [
            "/usr/local/lib/python3.6/dist-packages/statsmodels/tools/_testing.py:19: FutureWarning: pandas.util.testing is deprecated. Use the functions in the public API at pandas.testing instead.\n",
            "  import pandas.util.testing as tm\n"
          ],
          "name": "stderr"
        }
      ]
    },
    {
      "cell_type": "code",
      "metadata": {
        "id": "dTdii_oZDcNh",
        "colab_type": "code",
        "colab": {}
      },
      "source": [
        "# Loading the dataset\n",
        "df = pd.read_csv('/content/autolib_daily_events_postal_code(1).csv')"
      ],
      "execution_count": 8,
      "outputs": []
    },
    {
      "cell_type": "code",
      "metadata": {
        "id": "8o0BbJvuFCAh",
        "colab_type": "code",
        "colab": {
          "base_uri": "https://localhost:8080/",
          "height": 391
        },
        "outputId": "ac8b4181-29ec-4244-ded2-a47abe632113"
      },
      "source": [
        "# General information on the data\n",
        "# No misssing values\n",
        "df.info()"
      ],
      "execution_count": 9,
      "outputs": [
        {
          "output_type": "stream",
          "text": [
            "<class 'pandas.core.frame.DataFrame'>\n",
            "RangeIndex: 16085 entries, 0 to 16084\n",
            "Data columns (total 13 columns):\n",
            " #   Column                  Non-Null Count  Dtype \n",
            "---  ------                  --------------  ----- \n",
            " 0   Postal code             16085 non-null  int64 \n",
            " 1   date                    16085 non-null  object\n",
            " 2   n_daily_data_points     16085 non-null  int64 \n",
            " 3   dayOfWeek               16085 non-null  int64 \n",
            " 4   day_type                16085 non-null  object\n",
            " 5   BlueCars_taken_sum      16085 non-null  int64 \n",
            " 6   BlueCars_returned_sum   16085 non-null  int64 \n",
            " 7   Utilib_taken_sum        16085 non-null  int64 \n",
            " 8   Utilib_returned_sum     16085 non-null  int64 \n",
            " 9   Utilib_14_taken_sum     16085 non-null  int64 \n",
            " 10  Utilib_14_returned_sum  16085 non-null  int64 \n",
            " 11  Slots_freed_sum         16085 non-null  int64 \n",
            " 12  Slots_taken_sum         16085 non-null  int64 \n",
            "dtypes: int64(11), object(2)\n",
            "memory usage: 1.6+ MB\n"
          ],
          "name": "stdout"
        }
      ]
    },
    {
      "cell_type": "code",
      "metadata": {
        "id": "360-daMtjOD0",
        "colab_type": "code",
        "colab": {
          "base_uri": "https://localhost:8080/",
          "height": 306
        },
        "outputId": "f2d5c078-6e69-41ad-883b-ec7acf69e8f9"
      },
      "source": [
        "# Snip View of the data\n",
        "df.head(7)"
      ],
      "execution_count": 10,
      "outputs": [
        {
          "output_type": "execute_result",
          "data": {
            "text/html": [
              "<div>\n",
              "<style scoped>\n",
              "    .dataframe tbody tr th:only-of-type {\n",
              "        vertical-align: middle;\n",
              "    }\n",
              "\n",
              "    .dataframe tbody tr th {\n",
              "        vertical-align: top;\n",
              "    }\n",
              "\n",
              "    .dataframe thead th {\n",
              "        text-align: right;\n",
              "    }\n",
              "</style>\n",
              "<table border=\"1\" class=\"dataframe\">\n",
              "  <thead>\n",
              "    <tr style=\"text-align: right;\">\n",
              "      <th></th>\n",
              "      <th>Postal code</th>\n",
              "      <th>date</th>\n",
              "      <th>n_daily_data_points</th>\n",
              "      <th>dayOfWeek</th>\n",
              "      <th>day_type</th>\n",
              "      <th>BlueCars_taken_sum</th>\n",
              "      <th>BlueCars_returned_sum</th>\n",
              "      <th>Utilib_taken_sum</th>\n",
              "      <th>Utilib_returned_sum</th>\n",
              "      <th>Utilib_14_taken_sum</th>\n",
              "      <th>Utilib_14_returned_sum</th>\n",
              "      <th>Slots_freed_sum</th>\n",
              "      <th>Slots_taken_sum</th>\n",
              "    </tr>\n",
              "  </thead>\n",
              "  <tbody>\n",
              "    <tr>\n",
              "      <th>0</th>\n",
              "      <td>75001</td>\n",
              "      <td>1/1/2018</td>\n",
              "      <td>1440</td>\n",
              "      <td>0</td>\n",
              "      <td>weekday</td>\n",
              "      <td>110</td>\n",
              "      <td>103</td>\n",
              "      <td>3</td>\n",
              "      <td>2</td>\n",
              "      <td>10</td>\n",
              "      <td>9</td>\n",
              "      <td>22</td>\n",
              "      <td>20</td>\n",
              "    </tr>\n",
              "    <tr>\n",
              "      <th>1</th>\n",
              "      <td>75001</td>\n",
              "      <td>1/2/2018</td>\n",
              "      <td>1438</td>\n",
              "      <td>1</td>\n",
              "      <td>weekday</td>\n",
              "      <td>98</td>\n",
              "      <td>94</td>\n",
              "      <td>1</td>\n",
              "      <td>1</td>\n",
              "      <td>8</td>\n",
              "      <td>8</td>\n",
              "      <td>23</td>\n",
              "      <td>22</td>\n",
              "    </tr>\n",
              "    <tr>\n",
              "      <th>2</th>\n",
              "      <td>75001</td>\n",
              "      <td>1/3/2018</td>\n",
              "      <td>1439</td>\n",
              "      <td>2</td>\n",
              "      <td>weekday</td>\n",
              "      <td>138</td>\n",
              "      <td>139</td>\n",
              "      <td>0</td>\n",
              "      <td>0</td>\n",
              "      <td>2</td>\n",
              "      <td>2</td>\n",
              "      <td>27</td>\n",
              "      <td>27</td>\n",
              "    </tr>\n",
              "    <tr>\n",
              "      <th>3</th>\n",
              "      <td>75001</td>\n",
              "      <td>1/4/2018</td>\n",
              "      <td>1320</td>\n",
              "      <td>3</td>\n",
              "      <td>weekday</td>\n",
              "      <td>104</td>\n",
              "      <td>104</td>\n",
              "      <td>2</td>\n",
              "      <td>2</td>\n",
              "      <td>9</td>\n",
              "      <td>8</td>\n",
              "      <td>25</td>\n",
              "      <td>21</td>\n",
              "    </tr>\n",
              "    <tr>\n",
              "      <th>4</th>\n",
              "      <td>75001</td>\n",
              "      <td>1/5/2018</td>\n",
              "      <td>1440</td>\n",
              "      <td>4</td>\n",
              "      <td>weekday</td>\n",
              "      <td>114</td>\n",
              "      <td>117</td>\n",
              "      <td>3</td>\n",
              "      <td>3</td>\n",
              "      <td>6</td>\n",
              "      <td>6</td>\n",
              "      <td>18</td>\n",
              "      <td>20</td>\n",
              "    </tr>\n",
              "    <tr>\n",
              "      <th>5</th>\n",
              "      <td>75001</td>\n",
              "      <td>1/6/2018</td>\n",
              "      <td>1437</td>\n",
              "      <td>5</td>\n",
              "      <td>weekend</td>\n",
              "      <td>187</td>\n",
              "      <td>185</td>\n",
              "      <td>6</td>\n",
              "      <td>6</td>\n",
              "      <td>7</td>\n",
              "      <td>8</td>\n",
              "      <td>38</td>\n",
              "      <td>35</td>\n",
              "    </tr>\n",
              "    <tr>\n",
              "      <th>6</th>\n",
              "      <td>75001</td>\n",
              "      <td>1/7/2018</td>\n",
              "      <td>1440</td>\n",
              "      <td>6</td>\n",
              "      <td>weekend</td>\n",
              "      <td>180</td>\n",
              "      <td>180</td>\n",
              "      <td>2</td>\n",
              "      <td>2</td>\n",
              "      <td>10</td>\n",
              "      <td>9</td>\n",
              "      <td>34</td>\n",
              "      <td>34</td>\n",
              "    </tr>\n",
              "  </tbody>\n",
              "</table>\n",
              "</div>"
            ],
            "text/plain": [
              "   Postal code      date  ...  Slots_freed_sum  Slots_taken_sum\n",
              "0        75001  1/1/2018  ...               22               20\n",
              "1        75001  1/2/2018  ...               23               22\n",
              "2        75001  1/3/2018  ...               27               27\n",
              "3        75001  1/4/2018  ...               25               21\n",
              "4        75001  1/5/2018  ...               18               20\n",
              "5        75001  1/6/2018  ...               38               35\n",
              "6        75001  1/7/2018  ...               34               34\n",
              "\n",
              "[7 rows x 13 columns]"
            ]
          },
          "metadata": {
            "tags": []
          },
          "execution_count": 10
        }
      ]
    },
    {
      "cell_type": "markdown",
      "metadata": {
        "id": "4HvQfHHom9cR",
        "colab_type": "text"
      },
      "source": [
        "## Cleaning the data"
      ]
    },
    {
      "cell_type": "code",
      "metadata": {
        "id": "ikj8ius2fqTk",
        "colab_type": "code",
        "colab": {}
      },
      "source": [
        "# Dropping columns not required for this study\n",
        "df = df.drop(['n_daily_data_points', 'Slots_freed_sum', 'Slots_taken_sum', 'Utilib_taken_sum',\n",
        "              'Utilib_returned_sum', 'Utilib_14_taken_sum', 'Utilib_14_returned_sum',\n",
        "              'Slots_freed_sum', 'Slots_taken_sum', 'date', 'dayOfWeek', 'BlueCars_returned_sum'], axis = 1)"
      ],
      "execution_count": 12,
      "outputs": []
    },
    {
      "cell_type": "code",
      "metadata": {
        "id": "8ngFUsACnWjm",
        "colab_type": "code",
        "colab": {}
      },
      "source": [
        "# Dropping duplicates if any\n",
        "df = df.drop_duplicates()"
      ],
      "execution_count": 13,
      "outputs": []
    },
    {
      "cell_type": "code",
      "metadata": {
        "id": "AAXFlt5Un70z",
        "colab_type": "code",
        "colab": {
          "base_uri": "https://localhost:8080/",
          "height": 269
        },
        "outputId": "ea037dcc-dd7b-45b0-c6df-e1d99b96e61c"
      },
      "source": [
        "# Checking our new DataFrame\n",
        "df.head(7)"
      ],
      "execution_count": 14,
      "outputs": [
        {
          "output_type": "execute_result",
          "data": {
            "text/html": [
              "<div>\n",
              "<style scoped>\n",
              "    .dataframe tbody tr th:only-of-type {\n",
              "        vertical-align: middle;\n",
              "    }\n",
              "\n",
              "    .dataframe tbody tr th {\n",
              "        vertical-align: top;\n",
              "    }\n",
              "\n",
              "    .dataframe thead th {\n",
              "        text-align: right;\n",
              "    }\n",
              "</style>\n",
              "<table border=\"1\" class=\"dataframe\">\n",
              "  <thead>\n",
              "    <tr style=\"text-align: right;\">\n",
              "      <th></th>\n",
              "      <th>Postal code</th>\n",
              "      <th>day_type</th>\n",
              "      <th>BlueCars_taken_sum</th>\n",
              "    </tr>\n",
              "  </thead>\n",
              "  <tbody>\n",
              "    <tr>\n",
              "      <th>0</th>\n",
              "      <td>75001</td>\n",
              "      <td>weekday</td>\n",
              "      <td>110</td>\n",
              "    </tr>\n",
              "    <tr>\n",
              "      <th>1</th>\n",
              "      <td>75001</td>\n",
              "      <td>weekday</td>\n",
              "      <td>98</td>\n",
              "    </tr>\n",
              "    <tr>\n",
              "      <th>2</th>\n",
              "      <td>75001</td>\n",
              "      <td>weekday</td>\n",
              "      <td>138</td>\n",
              "    </tr>\n",
              "    <tr>\n",
              "      <th>3</th>\n",
              "      <td>75001</td>\n",
              "      <td>weekday</td>\n",
              "      <td>104</td>\n",
              "    </tr>\n",
              "    <tr>\n",
              "      <th>4</th>\n",
              "      <td>75001</td>\n",
              "      <td>weekday</td>\n",
              "      <td>114</td>\n",
              "    </tr>\n",
              "    <tr>\n",
              "      <th>5</th>\n",
              "      <td>75001</td>\n",
              "      <td>weekend</td>\n",
              "      <td>187</td>\n",
              "    </tr>\n",
              "    <tr>\n",
              "      <th>6</th>\n",
              "      <td>75001</td>\n",
              "      <td>weekend</td>\n",
              "      <td>180</td>\n",
              "    </tr>\n",
              "  </tbody>\n",
              "</table>\n",
              "</div>"
            ],
            "text/plain": [
              "   Postal code day_type  BlueCars_taken_sum\n",
              "0        75001  weekday                 110\n",
              "1        75001  weekday                  98\n",
              "2        75001  weekday                 138\n",
              "3        75001  weekday                 104\n",
              "4        75001  weekday                 114\n",
              "5        75001  weekend                 187\n",
              "6        75001  weekend                 180"
            ]
          },
          "metadata": {
            "tags": []
          },
          "execution_count": 14
        }
      ]
    },
    {
      "cell_type": "code",
      "metadata": {
        "id": "5PNKa1qQoCZX",
        "colab_type": "code",
        "colab": {
          "base_uri": "https://localhost:8080/",
          "height": 92
        },
        "outputId": "ae6b74f8-cc15-407a-fd5e-079eb5c30494"
      },
      "source": [
        "# Checking the datatypes\n",
        "df.dtypes"
      ],
      "execution_count": 15,
      "outputs": [
        {
          "output_type": "execute_result",
          "data": {
            "text/plain": [
              "Postal code            int64\n",
              "day_type              object\n",
              "BlueCars_taken_sum     int64\n",
              "dtype: object"
            ]
          },
          "metadata": {
            "tags": []
          },
          "execution_count": 15
        }
      ]
    },
    {
      "cell_type": "markdown",
      "metadata": {
        "id": "OoA53Eq4jkxM",
        "colab_type": "text"
      },
      "source": [
        "## 1. Exploratory Analysis of the claim\n",
        "\n",
        "Since there is a general feeling that there is an averagely the same number of Bluecar taken from Postal Areas 75015 and 75017, our focus here is to compute the average number of the Bluecars taken from the two areas. We will also look at the distributions of both.\n",
        "\n",
        "From the two we shall then make a conclusion that is to be compared with the results from the null hypothesis that is to follow later on."
      ]
    },
    {
      "cell_type": "code",
      "metadata": {
        "id": "dBj-JFS1tGhL",
        "colab_type": "code",
        "colab": {}
      },
      "source": [
        "# A function to plot the distributions of a data set\n",
        "def plot_distribution(inp):\n",
        "  plt.figure()\n",
        "  ax = sns.distplot(inp)\n",
        "  plt.axvline(np.mean(inp), color='k', linestyle='dashed', linewidth=5)\n",
        "  _, max_ = plt.ylim()\n",
        "  plt.text(\n",
        "      inp.mean() + inp.mean()/10,\n",
        "      max_ - max_/10,\n",
        "      \"Mean: {:.2f}\".format(inp.mean())\n",
        "  )\n",
        "  return plt.figure()"
      ],
      "execution_count": 17,
      "outputs": []
    },
    {
      "cell_type": "markdown",
      "metadata": {
        "id": "Gv1bU9lxvFRN",
        "colab_type": "text"
      },
      "source": [
        "### Plotting Distributions of taking the cabs in both the postal code areas"
      ]
    },
    {
      "cell_type": "code",
      "metadata": {
        "id": "mdCoEW4P36HZ",
        "colab_type": "code",
        "colab": {
          "base_uri": "https://localhost:8080/",
          "height": 317
        },
        "outputId": "f6961e0b-f526-487a-a661-630f58734078"
      },
      "source": [
        "# Plotting distribution of Bluecar taken from Area Code 75015 during the weekday\n",
        "taken_area1 = df[(df['Postal code'] == 75015) & (df.day_type == 'weekday')]['BlueCars_taken_sum']\n",
        "plot_distribution(taken_area1)"
      ],
      "execution_count": 21,
      "outputs": [
        {
          "output_type": "execute_result",
          "data": {
            "text/plain": [
              "<Figure size 432x288 with 0 Axes>"
            ]
          },
          "metadata": {
            "tags": []
          },
          "execution_count": 21
        },
        {
          "output_type": "display_data",
          "data": {
            "image/png": "[encoded data removed]",
            "text/plain": [
              "<Figure size 432x288 with 1 Axes>"
            ]
          },
          "metadata": {
            "tags": [],
            "needs_background": "light"
          }
        },
        {
          "output_type": "display_data",
          "data": {
            "text/plain": [
              "<Figure size 432x288 with 0 Axes>"
            ]
          },
          "metadata": {
            "tags": []
          }
        }
      ]
    },
    {
      "cell_type": "code",
      "metadata": {
        "id": "ZrRuS5mStZxI",
        "colab_type": "code",
        "colab": {
          "base_uri": "https://localhost:8080/",
          "height": 317
        },
        "outputId": "99fb18bf-38d3-4418-c8b7-59a913176a3f"
      },
      "source": [
        "# Plotting distribution of Bluecar taken from Area Code 75017 during the weekday\n",
        "taken_area2 = df[(df['Postal code'] == 75017) & (df.day_type == 'weekday')]['BlueCars_taken_sum']\n",
        "plot_distribution(taken_area2)"
      ],
      "execution_count": 22,
      "outputs": [
        {
          "output_type": "execute_result",
          "data": {
            "text/plain": [
              "<Figure size 432x288 with 0 Axes>"
            ]
          },
          "metadata": {
            "tags": []
          },
          "execution_count": 22
        },
        {
          "output_type": "display_data",
          "data": {
            "image/png": "[encoded data removed]",
            "text/plain": [
              "<Figure size 432x288 with 1 Axes>"
            ]
          },
          "metadata": {
            "tags": [],
            "needs_background": "light"
          }
        },
        {
          "output_type": "display_data",
          "data": {
            "text/plain": [
              "<Figure size 432x288 with 0 Axes>"
            ]
          },
          "metadata": {
            "tags": []
          }
        }
      ]
    },
    {
      "cell_type": "markdown",
      "metadata": {
        "id": "Zb0lt31QvXUj",
        "colab_type": "text"
      },
      "source": [
        "### Comparing the counts of cabs taken over time"
      ]
    },
    {
      "cell_type": "code",
      "metadata": {
        "id": "3w88AvYGvk1f",
        "colab_type": "code",
        "colab": {
          "base_uri": "https://localhost:8080/",
          "height": 54
        },
        "outputId": "3cbbac09-1e09-4394-f538-f0c7b2c9d4f0"
      },
      "source": [
        "print('Postal Code 75015: ', taken_area1.sum())\n",
        "print('Postal Code 75017: ', taken_area2.sum())"
      ],
      "execution_count": 23,
      "outputs": [
        {
          "output_type": "stream",
          "text": [
            "Postal Code 75015:  80047\n",
            "Postal Code 75017:  56696\n"
          ],
          "name": "stdout"
        }
      ]
    },
    {
      "cell_type": "code",
      "metadata": {
        "id": "cb4GOeRHwP12",
        "colab_type": "code",
        "colab": {
          "base_uri": "https://localhost:8080/",
          "height": 185
        },
        "outputId": "352fe4bf-4661-4df0-c56b-26314849d732"
      },
      "source": [
        "# Other measures Postal Area 75015\n",
        "taken_area1.describe()"
      ],
      "execution_count": 24,
      "outputs": [
        {
          "output_type": "execute_result",
          "data": {
            "text/plain": [
              "count      96.000000\n",
              "mean      833.822917\n",
              "std       131.560032\n",
              "min        49.000000\n",
              "25%       762.250000\n",
              "50%       836.000000\n",
              "75%       910.250000\n",
              "max      1093.000000\n",
              "Name: BlueCars_taken_sum, dtype: float64"
            ]
          },
          "metadata": {
            "tags": []
          },
          "execution_count": 24
        }
      ]
    },
    {
      "cell_type": "code",
      "metadata": {
        "id": "7EOWiC74wdwU",
        "colab_type": "code",
        "colab": {
          "base_uri": "https://localhost:8080/",
          "height": 185
        },
        "outputId": "d47e3eb4-c0fa-473c-87a2-93782e4a8679"
      },
      "source": [
        "# Other measures Postal Area 75017\n",
        "taken_area2.describe()"
      ],
      "execution_count": 25,
      "outputs": [
        {
          "output_type": "execute_result",
          "data": {
            "text/plain": [
              "count     82.000000\n",
              "mean     691.414634\n",
              "std       96.964414\n",
              "min       38.000000\n",
              "25%      652.000000\n",
              "50%      704.000000\n",
              "75%      741.750000\n",
              "max      850.000000\n",
              "Name: BlueCars_taken_sum, dtype: float64"
            ]
          },
          "metadata": {
            "tags": []
          },
          "execution_count": 25
        }
      ]
    },
    {
      "cell_type": "markdown",
      "metadata": {
        "id": "aAFsXrTntqbm",
        "colab_type": "text"
      },
      "source": [
        "**Observations/Findings**\n",
        "* From the averages, more cabs are taken from postal area code 75015 than 75017. THerefore, the feeling by the management is FALSE.\n",
        "* The graphs of distribution of data from the two Postal Codes areas indicate that the pattern of taking cabs follow the same distribution.\n"
      ]
    },
    {
      "cell_type": "markdown",
      "metadata": {
        "id": "WIPwjOxKwyW8",
        "colab_type": "text"
      },
      "source": [
        "## 2. **Taking a sample data and performing a hypothesis test**\n",
        "\n",
        "Here we shall perform the following:\n",
        "\n",
        "* Pick samples for Postal code area 75015 and 75017 of size n = 20 using simple random sampling technique\n",
        "* Since the sample size set is 20, compute **t-statistic** for each\n",
        "* Compute the corresponding **p-value** to the t-statistic\n",
        "* Compare the p-value to our set significance level of **α = 0.05**\n",
        "* Draw conclusion from the comparison"
      ]
    },
    {
      "cell_type": "markdown",
      "metadata": {
        "id": "7n8vRZHuACaN",
        "colab_type": "text"
      },
      "source": [
        "### **Sampling**"
      ]
    },
    {
      "cell_type": "code",
      "metadata": {
        "id": "koXjwF_BAOV2",
        "colab_type": "code",
        "colab": {
          "base_uri": "https://localhost:8080/",
          "height": 206
        },
        "outputId": "055f5587-de49-42d7-ebfb-4078292787b7"
      },
      "source": [
        "# Taking records from Postal Area 75015 and Postal Area 75017\n",
        "population = df[(df['Postal code'] == 75015) |  (df['Postal code'] == 75017)]\n",
        "population.head()"
      ],
      "execution_count": 36,
      "outputs": [
        {
          "output_type": "execute_result",
          "data": {
            "text/html": [
              "<div>\n",
              "<style scoped>\n",
              "    .dataframe tbody tr th:only-of-type {\n",
              "        vertical-align: middle;\n",
              "    }\n",
              "\n",
              "    .dataframe tbody tr th {\n",
              "        vertical-align: top;\n",
              "    }\n",
              "\n",
              "    .dataframe thead th {\n",
              "        text-align: right;\n",
              "    }\n",
              "</style>\n",
              "<table border=\"1\" class=\"dataframe\">\n",
              "  <thead>\n",
              "    <tr style=\"text-align: right;\">\n",
              "      <th></th>\n",
              "      <th>Postal code</th>\n",
              "      <th>day_type</th>\n",
              "      <th>BlueCars_taken_sum</th>\n",
              "    </tr>\n",
              "  </thead>\n",
              "  <tbody>\n",
              "    <tr>\n",
              "      <th>2184</th>\n",
              "      <td>75015</td>\n",
              "      <td>weekday</td>\n",
              "      <td>781</td>\n",
              "    </tr>\n",
              "    <tr>\n",
              "      <th>2185</th>\n",
              "      <td>75015</td>\n",
              "      <td>weekday</td>\n",
              "      <td>710</td>\n",
              "    </tr>\n",
              "    <tr>\n",
              "      <th>2186</th>\n",
              "      <td>75015</td>\n",
              "      <td>weekday</td>\n",
              "      <td>739</td>\n",
              "    </tr>\n",
              "    <tr>\n",
              "      <th>2187</th>\n",
              "      <td>75015</td>\n",
              "      <td>weekday</td>\n",
              "      <td>669</td>\n",
              "    </tr>\n",
              "    <tr>\n",
              "      <th>2188</th>\n",
              "      <td>75015</td>\n",
              "      <td>weekday</td>\n",
              "      <td>852</td>\n",
              "    </tr>\n",
              "  </tbody>\n",
              "</table>\n",
              "</div>"
            ],
            "text/plain": [
              "      Postal code day_type  BlueCars_taken_sum\n",
              "2184        75015  weekday                 781\n",
              "2185        75015  weekday                 710\n",
              "2186        75015  weekday                 739\n",
              "2187        75015  weekday                 669\n",
              "2188        75015  weekday                 852"
            ]
          },
          "metadata": {
            "tags": []
          },
          "execution_count": 36
        }
      ]
    },
    {
      "cell_type": "markdown",
      "metadata": {
        "id": "0XCtDDD_2BCA",
        "colab_type": "text"
      },
      "source": [
        "Sample for Postal Area 75015\n"
      ]
    },
    {
      "cell_type": "code",
      "metadata": {
        "id": "boOwEmL3Bok3",
        "colab_type": "code",
        "colab": {
          "base_uri": "https://localhost:8080/",
          "height": 129
        },
        "outputId": "15dc02d9-4e1c-44fd-a43d-430115e380e0"
      },
      "source": [
        "# Sampling from postal area 75015\n",
        "sample_015 = population[population['Postal code'] == 75015]['BlueCars_taken_sum'].sample(20)\n",
        "sample_015.head(5)"
      ],
      "execution_count": 37,
      "outputs": [
        {
          "output_type": "execute_result",
          "data": {
            "text/plain": [
              "2246     805\n",
              "2243     999\n",
              "2192     791\n",
              "2250    1038\n",
              "2333     920\n",
              "Name: BlueCars_taken_sum, dtype: int64"
            ]
          },
          "metadata": {
            "tags": []
          },
          "execution_count": 37
        }
      ]
    },
    {
      "cell_type": "markdown",
      "metadata": {
        "id": "o3Xtv6ZA2E53",
        "colab_type": "text"
      },
      "source": [
        "Sample for Postal Area 75017"
      ]
    },
    {
      "cell_type": "code",
      "metadata": {
        "id": "8UDvJG5fJIqG",
        "colab_type": "code",
        "colab": {
          "base_uri": "https://localhost:8080/",
          "height": 129
        },
        "outputId": "981194b4-b403-43c6-d137-ea6cc0e7ba8a"
      },
      "source": [
        "# Sampling from postal area 75017\n",
        "sample_017 = population[population['Postal code'] == 75017]['BlueCars_taken_sum'].sample(20)\n",
        "sample_017.head(5)"
      ],
      "execution_count": 38,
      "outputs": [
        {
          "output_type": "execute_result",
          "data": {
            "text/plain": [
              "2564    680\n",
              "2540    739\n",
              "2601    602\n",
              "2648    859\n",
              "2618    752\n",
              "Name: BlueCars_taken_sum, dtype: int64"
            ]
          },
          "metadata": {
            "tags": []
          },
          "execution_count": 38
        }
      ]
    },
    {
      "cell_type": "markdown",
      "metadata": {
        "id": "-XOMp7AO1jum",
        "colab_type": "text"
      },
      "source": [
        "### **Hypothesis testing**\n",
        "\n",
        "Since we want to compare means of data sampled from the two postal codes, our sample shall be labelled as follows:\n",
        "\n",
        "1. *sample_015:* sample taken from Postal area 75015 with sample size **n1 = 20**\n",
        "\n",
        "2. *sample_017:* sample taken from Postal area 75017 with sample size **n2 = 20**\n"
      ]
    },
    {
      "cell_type": "code",
      "metadata": {
        "id": "n6F0tSCwRZ6X",
        "colab_type": "code",
        "colab": {}
      },
      "source": [
        "# Assumption on the model\n",
        "# significance level is 0.05\n",
        "sig_level = 0.05"
      ],
      "execution_count": 39,
      "outputs": []
    },
    {
      "cell_type": "code",
      "metadata": {
        "id": "9Y5TAK6g1iLe",
        "colab_type": "code",
        "colab": {}
      },
      "source": [
        "# Computing mean and standard deviation for samples\n",
        "# sample_015\n",
        "mean1 = sample_015.mean()\n",
        "sdev1 = sample_015.std()\n",
        "\n",
        "# sample_017\n",
        "mean2 = sample_017.mean()\n",
        "sdev2 = sample_017.std()"
      ],
      "execution_count": 56,
      "outputs": []
    },
    {
      "cell_type": "code",
      "metadata": {
        "id": "dNfqeUSvLw3n",
        "colab_type": "code",
        "colab": {
          "base_uri": "https://localhost:8080/",
          "height": 36
        },
        "outputId": "cca5f0a3-be95-4bfb-d898-bca91126851a"
      },
      "source": [
        "# calculating the t-statistic\n",
        "t = (mean1 - mean2)/((sdev1**2/20) + (sdev2**2/20))**0.5\n",
        "print('t-statistic: ', t)"
      ],
      "execution_count": 41,
      "outputs": [
        {
          "output_type": "stream",
          "text": [
            "t-statistic:  3.612351410828048\n"
          ],
          "name": "stdout"
        }
      ]
    },
    {
      "cell_type": "code",
      "metadata": {
        "id": "4biimORnw-ru",
        "colab_type": "code",
        "colab": {
          "base_uri": "https://localhost:8080/",
          "height": 36
        },
        "outputId": "3f81f0e7-a875-4db4-de24-7624aefe743f"
      },
      "source": [
        "## Compare with the critical t-value\n",
        "#Degrees of freedom factoring that our sample size was 20 in each case\n",
        "df = 2*20 - 2\n",
        "\n",
        "#p-value after comparison with the t \n",
        "p = 1 - stats.t.cdf(t,df=df)\n",
        "\n",
        "print('p-value: ', p)"
      ],
      "execution_count": 42,
      "outputs": [
        {
          "output_type": "stream",
          "text": [
            "p-value:  0.00043757678334954697\n"
          ],
          "name": "stdout"
        }
      ]
    },
    {
      "cell_type": "code",
      "metadata": {
        "id": "aO41S9hYRSMb",
        "colab_type": "code",
        "colab": {
          "base_uri": "https://localhost:8080/",
          "height": 36
        },
        "outputId": "a8e63eea-0590-4e15-8a89-5886f57b1c10"
      },
      "source": [
        "# Comparing p value to the alpha value\n",
        "if p < sig_level:\n",
        "  print('REJECT NULL HYPOTHESIS')\n",
        "if p >= sig_level:\n",
        "  print('ACCEPT NULL HYPOTHESIS')"
      ],
      "execution_count": 43,
      "outputs": [
        {
          "output_type": "stream",
          "text": [
            "REJECT NULL HYPOTHESIS\n"
          ],
          "name": "stdout"
        }
      ]
    },
    {
      "cell_type": "markdown",
      "metadata": {
        "id": "JaIARRhd2g5X",
        "colab_type": "text"
      },
      "source": [
        "**Outcome**\n",
        "\n",
        "* Our **t-test** values is **3.612351410828048**\n",
        "* The corresponding **p-value** is **0.00043757678334954697**\n",
        "* With our significance level set at 5%, **P -value < significance Level** we reject the null hypothesis.\n"
      ]
    },
    {
      "cell_type": "markdown",
      "metadata": {
        "id": "1SLNjW3t32Xd",
        "colab_type": "text"
      },
      "source": [
        "### **Interpretation of the Test of Hypothesis Outcomes**\n",
        "\n",
        "We reject the claim that there is averagely the same number of cabs taken from Postal Code Areas 75015 and 75017.\n",
        "\n",
        "Clearly this finding corresponds to our earlier finding where we used the entire population."
      ]
    },
    {
      "cell_type": "markdown",
      "metadata": {
        "id": "l8SWgGIu9Rn_",
        "colab_type": "text"
      },
      "source": [
        "### Power of the test\n",
        "\n",
        "**Power test** is used to report confidence in the conclusions drawn from the results of an experiment.\n",
        "\n",
        "    Power = Pr(reject H0 | H1 is true) = 1 - Pr(fail to reject H0 | H0 is false)\n"
      ]
    },
    {
      "cell_type": "code",
      "metadata": {
        "id": "_87a1AEfWDH_",
        "colab_type": "code",
        "colab": {}
      },
      "source": [
        "# Effect size for the power test calculation\n",
        "# Cohen's d for independent samples\n",
        "from numpy import var, mean\n",
        "from math import sqrt\n",
        "\n",
        "def cohend(d1, d2):\n",
        "  # calculate the size of samples\n",
        "  n1, n2 = len(d1), len(d2)\n",
        "  # calculate the variance of the samples\n",
        "  s1, s2 = var(d1, ddof=1), var(d2, ddof=1)\n",
        "  # calculate the pooled standard deviation\n",
        "  s = sqrt(((n1 - 1) * s1 + (n2 - 1) * s2) / (n1 + n2 - 2))\n",
        "  # calculate the means of the samples\n",
        "  u1, u2 = mean(d1), mean(d2)\n",
        "  # calculate the effect size\n",
        "  effect_size = (u1 - u2) / s\n",
        "\n",
        "  return effect_size"
      ],
      "execution_count": 68,
      "outputs": []
    },
    {
      "cell_type": "code",
      "metadata": {
        "id": "Tx4NRgTI9VTe",
        "colab_type": "code",
        "colab": {
          "base_uri": "https://localhost:8080/",
          "height": 36
        },
        "outputId": "23c5275b-4f1d-4d4b-bb6c-a64c4d0c3b6e"
      },
      "source": [
        "from statsmodels.stats.power import tt_ind_solve_power\n",
        "\n",
        "effect_size = cohend(sample_015, sample_017) # Using the cohend function defined above to calculate the effect_size\n",
        "alpha = 0.05\n",
        "power = tt_ind_solve_power(effect_size=effect_size, nobs1=20, alpha=alpha, ratio=1)\n",
        "print(\"The statistical power is: {0}\".format(power))"
      ],
      "execution_count": 69,
      "outputs": [
        {
          "output_type": "stream",
          "text": [
            "The statistical power is: 0.9405818256581903\n"
          ],
          "name": "stdout"
        }
      ]
    },
    {
      "cell_type": "markdown",
      "metadata": {
        "id": "jd7SxCGtRwOv",
        "colab_type": "text"
      },
      "source": [
        "* We are 94% confident with the result above\n",
        "* Power = Pr(reject H0 | H1 is true) = 0.94\n",
        "* Maybe for even a higher score, the sample size should be increased a bit."
      ]
    }
  ]
}